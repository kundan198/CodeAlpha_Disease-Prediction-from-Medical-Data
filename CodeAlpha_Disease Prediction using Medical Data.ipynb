{
 "cells": [
  {
   "cell_type": "markdown",
   "metadata": {},
   "source": [
    "# CodeAlpha Disease Prediction from Medical Data\n",
    "### Task 1:Create a model to predict the likelihood of a disease based on medical data (e.g., symptoms, patient history). Use datasets with labeled medical records and apply classification algorithms.\n",
    "\n",
    "Dataset: https://www.kaggle.com/datasets/kaushil268/disease-prediction-using-machine-learning/code"
   ]
  },
  {
   "cell_type": "markdown",
   "metadata": {},
   "source": [
    "## Data Retrival"
   ]
  },
  {
   "cell_type": "code",
   "execution_count": 37,
   "metadata": {},
   "outputs": [
    {
     "name": "stdout",
     "output_type": "stream",
     "text": [
      "Index(['itching', 'skin_rash', 'nodal_skin_eruptions', 'continuous_sneezing',\n",
      "       'shivering', 'chills', 'joint_pain', 'stomach_pain', 'acidity',\n",
      "       'ulcers_on_tongue',\n",
      "       ...\n",
      "       'blackheads', 'scurring', 'skin_peeling', 'silver_like_dusting',\n",
      "       'small_dents_in_nails', 'inflammatory_nails', 'blister',\n",
      "       'red_sore_around_nose', 'yellow_crust_ooze', 'prognosis'],\n",
      "      dtype='object', length=133)\n",
      "Index(['itching', 'skin_rash', 'nodal_skin_eruptions', 'continuous_sneezing',\n",
      "       'shivering', 'chills', 'joint_pain', 'stomach_pain', 'acidity',\n",
      "       'ulcers_on_tongue',\n",
      "       ...\n",
      "       'blackheads', 'scurring', 'skin_peeling', 'silver_like_dusting',\n",
      "       'small_dents_in_nails', 'inflammatory_nails', 'blister',\n",
      "       'red_sore_around_nose', 'yellow_crust_ooze', 'prognosis'],\n",
      "      dtype='object', length=133)\n"
     ]
    }
   ],
   "source": [
    "import pandas as pd\n",
    "\n",
    "# Drop any unnamed columns\n",
    "train_data = train_data.loc[:, ~train_data.columns.str.contains('^Unnamed')]\n",
    "test_data = test_data.loc[:, ~test_data.columns.str.contains('^Unnamed')]\n",
    "\n",
    "# Verify the columns\n",
    "print(train_data.columns)\n",
    "print(test_data.columns)\n"
   ]
  },
  {
   "cell_type": "markdown",
   "metadata": {},
   "source": [
    "## Data Preprocessing"
   ]
  },
  {
   "cell_type": "code",
   "execution_count": 38,
   "metadata": {},
   "outputs": [],
   "source": [
    "from sklearn.model_selection import train_test_split\n",
    "from sklearn.preprocessing import StandardScaler, OneHotEncoder\n",
    "from sklearn.compose import ColumnTransformer\n",
    "from sklearn.pipeline import Pipeline\n",
    "from sklearn.impute import SimpleImputer\n",
    "from sklearn.ensemble import RandomForestClassifier\n",
    "from sklearn.metrics import accuracy_score, classification_report\n",
    "import numpy as np\n",
    "\n",
    "# Separate features and target in training data\n",
    "X_train = train_data.drop('prognosis', axis=1)\n",
    "y_train = train_data['prognosis']\n",
    "\n",
    "# Separate features and target in test data\n",
    "X_test = test_data.drop('prognosis', axis=1)\n",
    "y_test = test_data['prognosis']\n",
    "\n",
    "# Identify categorical and numerical columns\n",
    "categorical_features = X_train.select_dtypes(include=['object']).columns.tolist()\n",
    "numerical_features = X_train.select_dtypes(include=['int64', 'float64']).columns.tolist()\n",
    "\n",
    "# Preprocessing for numerical data\n",
    "numerical_transformer = Pipeline(steps=[\n",
    "    ('imputer', SimpleImputer(strategy='mean')),\n",
    "    ('scaler', StandardScaler())])\n",
    "\n",
    "# Preprocessing for categorical data\n",
    "categorical_transformer = Pipeline(steps=[\n",
    "    ('imputer', SimpleImputer(strategy='most_frequent')),\n",
    "    ('onehot', OneHotEncoder(handle_unknown='ignore'))])\n",
    "\n",
    "# Combine preprocessing steps\n",
    "preprocessor = ColumnTransformer(\n",
    "    transformers=[\n",
    "        ('num', numerical_transformer, numerical_features),\n",
    "        ('cat', categorical_transformer, categorical_features)])\n",
    "\n",
    "# Create a dictionary to map symptoms to their column indices before transforming\n",
    "symptom_index = {symptom: index for index, symptom in enumerate(X_train.columns)}\n",
    "\n",
    "# Apply preprocessing to training data\n",
    "X_train = preprocessor.fit_transform(X_train)\n",
    "# Apply preprocessing to test data\n",
    "X_test = preprocessor.transform(X_test)\n"
   ]
  },
  {
   "cell_type": "markdown",
   "metadata": {},
   "source": [
    "## Model training"
   ]
  },
  {
   "cell_type": "code",
   "execution_count": 39,
   "metadata": {},
   "outputs": [
    {
     "name": "stdout",
     "output_type": "stream",
     "text": [
      "Accuracy: 0.9761904761904762\n",
      "Classification Report:\n",
      "                                         precision    recall  f1-score   support\n",
      "\n",
      "(vertigo) Paroymsal  Positional Vertigo       1.00      1.00      1.00         1\n",
      "                                   AIDS       1.00      1.00      1.00         1\n",
      "                                   Acne       1.00      1.00      1.00         1\n",
      "                    Alcoholic hepatitis       1.00      1.00      1.00         1\n",
      "                                Allergy       1.00      1.00      1.00         1\n",
      "                              Arthritis       1.00      1.00      1.00         1\n",
      "                       Bronchial Asthma       1.00      1.00      1.00         1\n",
      "                   Cervical spondylosis       1.00      1.00      1.00         1\n",
      "                            Chicken pox       1.00      1.00      1.00         1\n",
      "                    Chronic cholestasis       1.00      1.00      1.00         1\n",
      "                            Common Cold       1.00      1.00      1.00         1\n",
      "                                 Dengue       1.00      1.00      1.00         1\n",
      "                              Diabetes        1.00      1.00      1.00         1\n",
      "           Dimorphic hemmorhoids(piles)       1.00      1.00      1.00         1\n",
      "                          Drug Reaction       1.00      1.00      1.00         1\n",
      "                       Fungal infection       1.00      0.50      0.67         2\n",
      "                                   GERD       1.00      1.00      1.00         1\n",
      "                        Gastroenteritis       1.00      1.00      1.00         1\n",
      "                           Heart attack       1.00      1.00      1.00         1\n",
      "                            Hepatitis B       1.00      1.00      1.00         1\n",
      "                            Hepatitis C       1.00      1.00      1.00         1\n",
      "                            Hepatitis D       1.00      1.00      1.00         1\n",
      "                            Hepatitis E       1.00      1.00      1.00         1\n",
      "                          Hypertension        1.00      1.00      1.00         1\n",
      "                        Hyperthyroidism       1.00      1.00      1.00         1\n",
      "                           Hypoglycemia       1.00      1.00      1.00         1\n",
      "                         Hypothyroidism       1.00      1.00      1.00         1\n",
      "                               Impetigo       0.50      1.00      0.67         1\n",
      "                               Jaundice       1.00      1.00      1.00         1\n",
      "                                Malaria       1.00      1.00      1.00         1\n",
      "                               Migraine       1.00      1.00      1.00         1\n",
      "                        Osteoarthristis       1.00      1.00      1.00         1\n",
      "           Paralysis (brain hemorrhage)       1.00      1.00      1.00         1\n",
      "                    Peptic ulcer diseae       1.00      1.00      1.00         1\n",
      "                              Pneumonia       1.00      1.00      1.00         1\n",
      "                              Psoriasis       1.00      1.00      1.00         1\n",
      "                           Tuberculosis       1.00      1.00      1.00         1\n",
      "                                Typhoid       1.00      1.00      1.00         1\n",
      "                Urinary tract infection       1.00      1.00      1.00         1\n",
      "                         Varicose veins       1.00      1.00      1.00         1\n",
      "                            hepatitis A       1.00      1.00      1.00         1\n",
      "\n",
      "                               accuracy                           0.98        42\n",
      "                              macro avg       0.99      0.99      0.98        42\n",
      "                           weighted avg       0.99      0.98      0.98        42\n",
      "\n"
     ]
    }
   ],
   "source": [
    "# Initialize the model\n",
    "model = RandomForestClassifier(n_estimators=100, random_state=42)\n",
    "\n",
    "# Train the model\n",
    "model.fit(X_train, y_train)\n",
    "\n",
    "# Predict on test data\n",
    "y_pred = model.predict(X_test)\n",
    "\n",
    "# Evaluate the model\n",
    "accuracy = accuracy_score(y_test, y_pred)\n",
    "report = classification_report(y_test, y_pred)\n",
    "\n",
    "print(f'Accuracy: {accuracy}')\n",
    "print('Classification Report:')\n",
    "print(report)\n"
   ]
  },
  {
   "cell_type": "markdown",
   "metadata": {},
   "source": [
    "## Prediction using Symptoms"
   ]
  },
  {
   "cell_type": "code",
   "execution_count": 40,
   "metadata": {},
   "outputs": [
    {
     "name": "stdout",
     "output_type": "stream",
     "text": [
      "Predicted Disease: Allergy\n"
     ]
    }
   ],
   "source": [
    "def predict_disease(symptoms):\n",
    "    # Create an input array for the model\n",
    "    input_data = np.zeros(len(symptom_index))\n",
    "\n",
    "    # Set the values for the input symptoms\n",
    "    for symptom in symptoms:\n",
    "        if symptom in symptom_index:\n",
    "            input_data[symptom_index[symptom]] = 1\n",
    "\n",
    "    # Convert the input data to a DataFrame\n",
    "    input_df = pd.DataFrame([input_data], columns=symptom_index.keys())\n",
    "\n",
    "    # Preprocess the input data\n",
    "    input_data_transformed = preprocessor.transform(input_df)\n",
    "\n",
    "    # Predict the disease\n",
    "    prediction = model.predict(input_data_transformed)\n",
    "    return prediction[0]\n",
    "\n",
    "# Example usage\n",
    "input_symptoms = ['itching', 'skin_rash', 'shivering']\n",
    "predicted_disease = predict_disease(input_symptoms)\n",
    "print(f'Predicted Disease: {predicted_disease}')\n"
   ]
  },
  {
   "cell_type": "markdown",
   "metadata": {},
   "source": [
    "### Thank You!!"
   ]
  }
 ],
 "metadata": {
  "kernelspec": {
   "display_name": "base",
   "language": "python",
   "name": "python3"
  },
  "language_info": {
   "codemirror_mode": {
    "name": "ipython",
    "version": 3
   },
   "file_extension": ".py",
   "mimetype": "text/x-python",
   "name": "python",
   "nbconvert_exporter": "python",
   "pygments_lexer": "ipython3",
   "version": "3.11.3"
  }
 },
 "nbformat": 4,
 "nbformat_minor": 2
}
